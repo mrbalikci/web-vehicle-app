{
 "cells": [
  {
   "cell_type": "markdown",
   "metadata": {},
   "source": [
    "## Scrape Craigslist to get urls for the vehicles."
   ]
  },
  {
   "cell_type": "code",
   "execution_count": 1,
   "metadata": {},
   "outputs": [],
   "source": [
    "# Dependencies\n",
    "from bs4 import BeautifulSoup as bs\n",
    "import requests\n",
    "import pandas as pd\n",
    "import time"
   ]
  },
  {
   "cell_type": "code",
   "execution_count": 2,
   "metadata": {},
   "outputs": [],
   "source": [
    "# Scrape the main page = page 1.\n",
    "url = 'https://austin.craigslist.org/search/cta'\n",
    "\n",
    "links = []\n",
    "# Retrieve page with the requests module\n",
    "response = requests.get(url)\n",
    "\n",
    "# Create BeautifulSoup object; parse with 'html.parser'\n",
    "soup = bs(response.text, 'html.parser')\n",
    "\n",
    "# results are returned as an iterable list\n",
    "results = soup.find_all('li', class_=\"result-row\")\n",
    "\n",
    "# Loop through returned results\n",
    "for result in results:\n",
    "    # Error handling\n",
    "    try:\n",
    "        # Identify and return link to listing\n",
    "        link = result.a['href']\n",
    "        links.append(link)\n",
    "\n",
    "    except AttributeError as e:\n",
    "        print(e)"
   ]
  },
  {
   "cell_type": "code",
   "execution_count": 3,
   "metadata": {},
   "outputs": [
    {
     "data": {
      "text/plain": [
       "120"
      ]
     },
     "execution_count": 3,
     "metadata": {},
     "output_type": "execute_result"
    }
   ],
   "source": [
    "len(links)"
   ]
  },
  {
   "cell_type": "code",
   "execution_count": 4,
   "metadata": {},
   "outputs": [],
   "source": [
    "# Scrape all the urls import time\n",
    "# There are 120 cars per page and 25 pages. \n",
    "# Save 3 pages to the list and save the list to a csv file. \n",
    "\n",
    "# Add pages 2 & 3 to page 1. \n",
    "num_pages = 1\n",
    "while (num_pages < 3):\n",
    "    page = '?s='\n",
    "    page_num= 120*num_pages\n",
    "    url = 'https://austin.craigslist.org/search/cta'+page+str(page_num)\n",
    "    \n",
    "    # wait 10 seconds to get the urls\n",
    "    time.sleep(10)\n",
    "\n",
    "    # Retrieve page with the requests module\n",
    "    response = requests.get(url)\n",
    "\n",
    "    # Create BeautifulSoup object; parse with 'html.parser'\n",
    "    soup = bs(response.text, 'html.parser')\n",
    "\n",
    "    # results are returned as an iterable list\n",
    "    results = soup.find_all('li', class_=\"result-row\")\n",
    "\n",
    "    # Loop through returned results\n",
    "    for result in results:\n",
    "        # Error handling\n",
    "        try:\n",
    "            # Identify and return link to listing\n",
    "            link = result.a['href']\n",
    "            links.append(link)\n",
    "\n",
    "        except AttributeError as e:\n",
    "            print(e)\n",
    "    \n",
    "    num_pages += 1"
   ]
  },
  {
   "cell_type": "code",
   "execution_count": 5,
   "metadata": {},
   "outputs": [
    {
     "data": {
      "text/plain": [
       "360"
      ]
     },
     "execution_count": 5,
     "metadata": {},
     "output_type": "execute_result"
    }
   ],
   "source": [
    "len(links)"
   ]
  },
  {
   "cell_type": "code",
   "execution_count": 6,
   "metadata": {},
   "outputs": [],
   "source": [
    "vehicle_urls_df = pd.DataFrame({'urls':links,'batch':'0-359'})"
   ]
  },
  {
   "cell_type": "code",
   "execution_count": 7,
   "metadata": {},
   "outputs": [],
   "source": [
    "vehicle_urls_df.to_csv('vehicle_urls/vehicle_urls_df1.csv')"
   ]
  },
  {
   "cell_type": "markdown",
   "metadata": {},
   "source": [
    "### Get 2 pages at a time and add them to an empty list. Then save the list to datframe, then to csv file."
   ]
  },
  {
   "cell_type": "code",
   "execution_count": 8,
   "metadata": {},
   "outputs": [],
   "source": [
    "# Increment num_pages by '2' and change dataframe and csv file name.\n",
    "# csv1:pages 1-3, csv2: pages 4,5"
   ]
  },
  {
   "cell_type": "code",
   "execution_count": 49,
   "metadata": {},
   "outputs": [],
   "source": [
    "links = []\n",
    "# increment num_pages by 2 and while(num_pages < x) x + 2. \n",
    "num_pages = 23\n",
    "while (num_pages < 25):\n",
    "    page = '?s='\n",
    "    page_num= 120*num_pages\n",
    "    url = 'https://austin.craigslist.org/search/cta'+page+str(page_num)\n",
    "    \n",
    "    # wait 10 seconds to get the urls\n",
    "    time.sleep(10)\n",
    "\n",
    "    # Retrieve page with the requests module\n",
    "    response = requests.get(url)\n",
    "\n",
    "    # Create BeautifulSoup object; parse with 'html.parser'\n",
    "    soup = bs(response.text, 'html.parser')\n",
    "\n",
    "    # results are returned as an iterable list\n",
    "    results = soup.find_all('li', class_=\"result-row\")\n",
    "\n",
    "    # Loop through returned results\n",
    "    for result in results:\n",
    "        # Error handling\n",
    "        try:\n",
    "            # Identify and return link to listing\n",
    "            link = result.a['href']\n",
    "            links.append(link)\n",
    "\n",
    "        except AttributeError as e:\n",
    "            print(e)\n",
    "    \n",
    "    num_pages += 1"
   ]
  },
  {
   "cell_type": "code",
   "execution_count": 50,
   "metadata": {},
   "outputs": [
    {
     "data": {
      "text/plain": [
       "240"
      ]
     },
     "execution_count": 50,
     "metadata": {},
     "output_type": "execute_result"
    }
   ],
   "source": [
    "len(links)"
   ]
  },
  {
   "cell_type": "code",
   "execution_count": 51,
   "metadata": {},
   "outputs": [],
   "source": [
    "vehicle_urls_df = pd.DataFrame({'urls':links,'batch':'2761-2999'})"
   ]
  },
  {
   "cell_type": "code",
   "execution_count": 52,
   "metadata": {},
   "outputs": [],
   "source": [
    "vehicle_urls_df.to_csv('vehicle_urls/vehicle_urls_df12.csv')"
   ]
  },
  {
   "cell_type": "code",
   "execution_count": null,
   "metadata": {},
   "outputs": [],
   "source": []
  }
 ],
 "metadata": {
  "kernelspec": {
   "display_name": "Python 3",
   "language": "python",
   "name": "python3"
  },
  "language_info": {
   "codemirror_mode": {
    "name": "ipython",
    "version": 3
   },
   "file_extension": ".py",
   "mimetype": "text/x-python",
   "name": "python",
   "nbconvert_exporter": "python",
   "pygments_lexer": "ipython3",
   "version": "3.6.4"
  }
 },
 "nbformat": 4,
 "nbformat_minor": 2
}
