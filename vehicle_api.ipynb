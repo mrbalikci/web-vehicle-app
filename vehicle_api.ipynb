{
 "cells": [
  {
   "cell_type": "code",
   "execution_count": 408,
   "metadata": {
    "collapsed": true
   },
   "outputs": [],
   "source": [
    "# Dependencies\n",
    "import json\n",
    "import requests as req\n",
    "from pprint import pprint\n",
    "import pandas as pd"
   ]
  },
  {
   "cell_type": "code",
   "execution_count": 409,
   "metadata": {
    "collapsed": true
   },
   "outputs": [],
   "source": [
    "vins = ['JTEZU14R470090477', '1HGCM56393AO35605', '5NPET46C49H491887', '1C4RJEBG9FC727706']"
   ]
  },
  {
   "cell_type": "code",
   "execution_count": 410,
   "metadata": {
    "collapsed": true
   },
   "outputs": [],
   "source": [
    "urls = []"
   ]
  },
  {
   "cell_type": "code",
   "execution_count": 411,
   "metadata": {},
   "outputs": [],
   "source": [
    "for vin in vins:\n",
    "    url = f\"https://vpic.nhtsa.dot.gov/api/vehicles/DecodeVin/{vin}?format=json\"\n",
    "    urls.append(url)"
   ]
  },
  {
   "cell_type": "code",
   "execution_count": 412,
   "metadata": {
    "collapsed": true
   },
   "outputs": [],
   "source": [
    "datas = []"
   ]
  },
  {
   "cell_type": "code",
   "execution_count": 413,
   "metadata": {},
   "outputs": [],
   "source": [
    "for url in urls:\n",
    "    #print(url)\n",
    "    response = req.get(url)\n",
    "    data = response.json()\n",
    "    datas.append(data)"
   ]
  },
  {
   "cell_type": "code",
   "execution_count": 414,
   "metadata": {
    "collapsed": true
   },
   "outputs": [],
   "source": [
    "car_makers = []\n",
    "car_names = []\n",
    "car_years = []\n",
    "car_models = []"
   ]
  },
  {
   "cell_type": "code",
   "execution_count": 415,
   "metadata": {},
   "outputs": [],
   "source": [
    "for x in datas:\n",
    "    def pprint(jsondata):\n",
    "        print(json.dumps(jsondata, indent=4))"
   ]
  },
  {
   "cell_type": "code",
   "execution_count": 416,
   "metadata": {},
   "outputs": [],
   "source": [
    "for x in datas:\n",
    "    car_makers.append(x['Results'][5]['Value'])\n",
    "    car_names.append(x['Results'][7]['Value'])\n",
    "    car_years.append(x['Results'][8]['Value'])\n",
    "    car_models.append(x['Results'][11]['Value'])"
   ]
  },
  {
   "cell_type": "code",
   "execution_count": 417,
   "metadata": {},
   "outputs": [
    {
     "data": {
      "text/plain": [
       "['4-Runner', 'Accord', 'Sonata']"
      ]
     },
     "execution_count": 417,
     "metadata": {},
     "output_type": "execute_result"
    }
   ],
   "source": [
    "car_names"
   ]
  },
  {
   "cell_type": "code",
   "execution_count": 418,
   "metadata": {
    "collapsed": true
   },
   "outputs": [],
   "source": [
    "the_cars = []"
   ]
  },
  {
   "cell_type": "code",
   "execution_count": 419,
   "metadata": {},
   "outputs": [],
   "source": [
    "for i in range(len(car_makers)):\n",
    "    the_car = f\"{car_makers[i]}_{car_names[i]}_{car_years[i]}_{car_models[i]}\"\n",
    "    the_cars.append(the_car)"
   ]
  },
  {
   "cell_type": "code",
   "execution_count": 420,
   "metadata": {},
   "outputs": [
    {
     "data": {
      "text/plain": [
       "['TOYOTA_4-Runner_2007_SR5',\n",
       " 'HONDA_Accord_2003_LX',\n",
       " 'HYUNDAI_Sonata_2009_None']"
      ]
     },
     "execution_count": 420,
     "metadata": {},
     "output_type": "execute_result"
    }
   ],
   "source": [
    "the_cars"
   ]
  },
  {
   "cell_type": "code",
   "execution_count": 421,
   "metadata": {},
   "outputs": [
    {
     "name": "stdout",
     "output_type": "stream",
     "text": [
      "TOYOTA_4-Runner_2007_SR5\n",
      "HONDA_Accord_2003_LX\n",
      "HYUNDAI_Sonata_2009_None\n"
     ]
    }
   ],
   "source": [
    "for the_car in the_cars:\n",
    "    print(the_car)\n",
    "    with open(f'{the_car}.json', 'w') as fp:\n",
    "        json.dump(data, fp)"
   ]
  },
  {
   "cell_type": "code",
   "execution_count": 425,
   "metadata": {
    "collapsed": true
   },
   "outputs": [],
   "source": [
    "with open('HYUNDAI_Sonata_2009_None.json', 'r') as fp:\n",
    "    data2= json.load(fp)"
   ]
  },
  {
   "cell_type": "code",
   "execution_count": 426,
   "metadata": {},
   "outputs": [
    {
     "data": {
      "text/plain": [
       "{'Count': 116,\n",
       " 'Message': 'Results returned successfully',\n",
       " 'Results': [{'Value': '',\n",
       "   'ValueId': '',\n",
       "   'Variable': 'Suggested VIN',\n",
       "   'VariableId': 142},\n",
       "  {'Value': '0 - VIN decoded clean. Check Digit (9th position) is correct',\n",
       "   'ValueId': '0',\n",
       "   'Variable': 'Error Code',\n",
       "   'VariableId': 143},\n",
       "  {'Value': '',\n",
       "   'ValueId': '',\n",
       "   'Variable': 'Possible Values',\n",
       "   'VariableId': 144},\n",
       "  {'Value': '',\n",
       "   'ValueId': '',\n",
       "   'Variable': 'Additional Error Text',\n",
       "   'VariableId': 156},\n",
       "  {'Value': None,\n",
       "   'ValueId': None,\n",
       "   'Variable': 'Destination Market',\n",
       "   'VariableId': 10},\n",
       "  {'Value': 'HYUNDAI', 'ValueId': '498', 'Variable': 'Make', 'VariableId': 26},\n",
       "  {'Value': 'HYUNDAI-KIA AMERICA TECHNICAL CENTER INC (HATCI)',\n",
       "   'ValueId': '1034',\n",
       "   'Variable': 'Manufacturer Name',\n",
       "   'VariableId': 27},\n",
       "  {'Value': 'Sonata',\n",
       "   'ValueId': '2459',\n",
       "   'Variable': 'Model',\n",
       "   'VariableId': 28},\n",
       "  {'Value': '2009', 'ValueId': '', 'Variable': 'Model Year', 'VariableId': 29},\n",
       "  {'Value': None, 'ValueId': '', 'Variable': 'Plant City', 'VariableId': 31},\n",
       "  {'Value': 'NFA', 'ValueId': '', 'Variable': 'Series', 'VariableId': 34},\n",
       "  {'Value': None, 'ValueId': '', 'Variable': 'Trim', 'VariableId': 38},\n",
       "  {'Value': 'PASSENGER CAR',\n",
       "   'ValueId': '2',\n",
       "   'Variable': 'Vehicle Type',\n",
       "   'VariableId': 39},\n",
       "  {'Value': 'United States (USA)',\n",
       "   'ValueId': '6',\n",
       "   'Variable': 'Plant Country',\n",
       "   'VariableId': 75},\n",
       "  {'Value': 'Hyundai Motor Manufacturing Alabama',\n",
       "   'ValueId': '',\n",
       "   'Variable': 'Plant Company Name',\n",
       "   'VariableId': 76},\n",
       "  {'Value': 'Alabama',\n",
       "   'ValueId': '',\n",
       "   'Variable': 'Plant State',\n",
       "   'VariableId': 77},\n",
       "  {'Value': None, 'ValueId': '', 'Variable': 'Trim2', 'VariableId': 109},\n",
       "  {'Value': None, 'ValueId': '', 'Variable': 'Series2', 'VariableId': 110},\n",
       "  {'Value': None, 'ValueId': '', 'Variable': 'Note', 'VariableId': 114},\n",
       "  {'Value': None,\n",
       "   'ValueId': '',\n",
       "   'Variable': 'Base Price ($)',\n",
       "   'VariableId': 136},\n",
       "  {'Value': '1034',\n",
       "   'ValueId': '',\n",
       "   'Variable': 'Manufacturer Id',\n",
       "   'VariableId': 157},\n",
       "  {'Value': None,\n",
       "   'ValueId': '',\n",
       "   'Variable': 'Cash For Clunkers',\n",
       "   'VariableId': 158},\n",
       "  {'Value': 'Sedan/Saloon',\n",
       "   'ValueId': '13',\n",
       "   'Variable': 'Body Class',\n",
       "   'VariableId': 5},\n",
       "  {'Value': '4', 'ValueId': '', 'Variable': 'Doors', 'VariableId': 14},\n",
       "  {'Value': None, 'ValueId': '', 'Variable': 'Windows', 'VariableId': 40},\n",
       "  {'Value': None,\n",
       "   'ValueId': None,\n",
       "   'Variable': 'Wheel Base Type',\n",
       "   'VariableId': 60},\n",
       "  {'Value': None, 'ValueId': '', 'Variable': 'Track Width', 'VariableId': 159},\n",
       "  {'Value': None,\n",
       "   'ValueId': None,\n",
       "   'Variable': 'Gross Vehicle Weight Rating',\n",
       "   'VariableId': 25},\n",
       "  {'Value': None,\n",
       "   'ValueId': '',\n",
       "   'Variable': 'Bed Length (inches)',\n",
       "   'VariableId': 49},\n",
       "  {'Value': None,\n",
       "   'ValueId': '',\n",
       "   'Variable': 'Curb Weight (pounds)',\n",
       "   'VariableId': 54},\n",
       "  {'Value': None,\n",
       "   'ValueId': '',\n",
       "   'Variable': 'Wheel Base (inches)',\n",
       "   'VariableId': 111},\n",
       "  {'Value': None,\n",
       "   'ValueId': '',\n",
       "   'Variable': 'Wheel Base (inches) up to',\n",
       "   'VariableId': 112},\n",
       "  {'Value': None, 'ValueId': None, 'Variable': 'Bed Type', 'VariableId': 3},\n",
       "  {'Value': None, 'ValueId': None, 'Variable': 'Cab Type', 'VariableId': 4},\n",
       "  {'Value': None,\n",
       "   'ValueId': None,\n",
       "   'Variable': 'Trailer Type Connection',\n",
       "   'VariableId': 116},\n",
       "  {'Value': None,\n",
       "   'ValueId': None,\n",
       "   'Variable': 'Trailer Body Type',\n",
       "   'VariableId': 117},\n",
       "  {'Value': None,\n",
       "   'ValueId': '',\n",
       "   'Variable': 'Trailer Length (feet)',\n",
       "   'VariableId': 118},\n",
       "  {'Value': None,\n",
       "   'ValueId': '',\n",
       "   'Variable': 'Other Trailer Info',\n",
       "   'VariableId': 155},\n",
       "  {'Value': None,\n",
       "   'ValueId': '',\n",
       "   'Variable': 'Number of Wheels',\n",
       "   'VariableId': 115},\n",
       "  {'Value': None,\n",
       "   'ValueId': '',\n",
       "   'Variable': 'Wheel Size Front (inches)',\n",
       "   'VariableId': 119},\n",
       "  {'Value': None,\n",
       "   'ValueId': '',\n",
       "   'Variable': 'Wheel Size Rear (inches)',\n",
       "   'VariableId': 120},\n",
       "  {'Value': None,\n",
       "   'ValueId': None,\n",
       "   'Variable': 'Entertainment System',\n",
       "   'VariableId': 23},\n",
       "  {'Value': None,\n",
       "   'ValueId': None,\n",
       "   'Variable': 'Steering Location',\n",
       "   'VariableId': 36},\n",
       "  {'Value': None,\n",
       "   'ValueId': '',\n",
       "   'Variable': 'Number of Seats',\n",
       "   'VariableId': 33},\n",
       "  {'Value': None,\n",
       "   'ValueId': '',\n",
       "   'Variable': 'Number of Seat Rows',\n",
       "   'VariableId': 61},\n",
       "  {'Value': None,\n",
       "   'ValueId': None,\n",
       "   'Variable': 'Transmission Style',\n",
       "   'VariableId': 37},\n",
       "  {'Value': None,\n",
       "   'ValueId': '',\n",
       "   'Variable': 'Transmission Speeds',\n",
       "   'VariableId': 63},\n",
       "  {'Value': None, 'ValueId': None, 'Variable': 'Drive Type', 'VariableId': 15},\n",
       "  {'Value': None, 'ValueId': '', 'Variable': 'Axles', 'VariableId': 41},\n",
       "  {'Value': None,\n",
       "   'ValueId': None,\n",
       "   'Variable': 'Axle Configuration',\n",
       "   'VariableId': 145},\n",
       "  {'Value': None,\n",
       "   'ValueId': None,\n",
       "   'Variable': 'Brake System Type',\n",
       "   'VariableId': 42},\n",
       "  {'Value': None,\n",
       "   'ValueId': '',\n",
       "   'Variable': 'Brake System Description',\n",
       "   'VariableId': 52},\n",
       "  {'Value': None, 'ValueId': '', 'Variable': 'Battery Info', 'VariableId': 1},\n",
       "  {'Value': None,\n",
       "   'ValueId': None,\n",
       "   'Variable': 'Battery Type',\n",
       "   'VariableId': 2},\n",
       "  {'Value': None,\n",
       "   'ValueId': '',\n",
       "   'Variable': 'Number of Battery Cells per Module',\n",
       "   'VariableId': 48},\n",
       "  {'Value': None,\n",
       "   'ValueId': '',\n",
       "   'Variable': 'Battery Current (Amps)',\n",
       "   'VariableId': 57},\n",
       "  {'Value': None,\n",
       "   'ValueId': '',\n",
       "   'Variable': 'Battery Voltage (Volts)',\n",
       "   'VariableId': 58},\n",
       "  {'Value': None,\n",
       "   'ValueId': '',\n",
       "   'Variable': 'Battery Energy (KWh)',\n",
       "   'VariableId': 59},\n",
       "  {'Value': None,\n",
       "   'ValueId': None,\n",
       "   'Variable': 'EV Drive Unit',\n",
       "   'VariableId': 72},\n",
       "  {'Value': None,\n",
       "   'ValueId': '',\n",
       "   'Variable': 'Battery Current (Amps) up to',\n",
       "   'VariableId': 132},\n",
       "  {'Value': None,\n",
       "   'ValueId': '',\n",
       "   'Variable': 'Battery Voltage (Volts) up to',\n",
       "   'VariableId': 133},\n",
       "  {'Value': None,\n",
       "   'ValueId': '',\n",
       "   'Variable': 'Battery Energy (KWh) up to',\n",
       "   'VariableId': 134},\n",
       "  {'Value': None,\n",
       "   'ValueId': '',\n",
       "   'Variable': 'Number of Battery Modules per Pack',\n",
       "   'VariableId': 137},\n",
       "  {'Value': None,\n",
       "   'ValueId': '',\n",
       "   'Variable': 'Number of Battery Packs per Vehicle',\n",
       "   'VariableId': 138},\n",
       "  {'Value': None,\n",
       "   'ValueId': None,\n",
       "   'Variable': 'Charger Level',\n",
       "   'VariableId': 127},\n",
       "  {'Value': None,\n",
       "   'ValueId': '',\n",
       "   'Variable': 'Charger Power (KW)',\n",
       "   'VariableId': 128},\n",
       "  {'Value': None,\n",
       "   'ValueId': '',\n",
       "   'Variable': 'Engine Number of Cylinders',\n",
       "   'VariableId': 9},\n",
       "  {'Value': '2400.0',\n",
       "   'ValueId': '',\n",
       "   'Variable': 'Displacement (CC)',\n",
       "   'VariableId': 11},\n",
       "  {'Value': '146.45698582735',\n",
       "   'ValueId': '',\n",
       "   'Variable': 'Displacement (CI)',\n",
       "   'VariableId': 12},\n",
       "  {'Value': '2.4',\n",
       "   'ValueId': '',\n",
       "   'Variable': 'Displacement (L)',\n",
       "   'VariableId': 13},\n",
       "  {'Value': None,\n",
       "   'ValueId': '',\n",
       "   'Variable': 'Engine Stroke Cycles',\n",
       "   'VariableId': 17},\n",
       "  {'Value': 'Theta - FF',\n",
       "   'ValueId': '',\n",
       "   'Variable': 'Engine Model',\n",
       "   'VariableId': 18},\n",
       "  {'Value': None,\n",
       "   'ValueId': '',\n",
       "   'Variable': 'Engine Power (KW)',\n",
       "   'VariableId': 21},\n",
       "  {'Value': None,\n",
       "   'ValueId': None,\n",
       "   'Variable': 'Fuel Type - Primary',\n",
       "   'VariableId': 24},\n",
       "  {'Value': 'Dual Overhead Cam (DOHC)',\n",
       "   'ValueId': '2',\n",
       "   'Variable': 'Valve Train Design',\n",
       "   'VariableId': 62},\n",
       "  {'Value': None,\n",
       "   'ValueId': None,\n",
       "   'Variable': 'Engine Configuration',\n",
       "   'VariableId': 64},\n",
       "  {'Value': None,\n",
       "   'ValueId': None,\n",
       "   'Variable': 'Fuel Type - Secondary',\n",
       "   'VariableId': 66},\n",
       "  {'Value': None,\n",
       "   'ValueId': None,\n",
       "   'Variable': 'Fuel Delivery / Fuel Injection Type',\n",
       "   'VariableId': 67},\n",
       "  {'Value': None,\n",
       "   'ValueId': '',\n",
       "   'Variable': 'Engine Brake (hp)',\n",
       "   'VariableId': 71},\n",
       "  {'Value': None,\n",
       "   'ValueId': None,\n",
       "   'Variable': 'Cooling Type',\n",
       "   'VariableId': 122},\n",
       "  {'Value': None,\n",
       "   'ValueId': '',\n",
       "   'Variable': 'Engine Brake (hp) up to',\n",
       "   'VariableId': 125},\n",
       "  {'Value': None,\n",
       "   'ValueId': None,\n",
       "   'Variable': 'Electrification Level',\n",
       "   'VariableId': 126},\n",
       "  {'Value': None,\n",
       "   'ValueId': '',\n",
       "   'Variable': 'Other Engine Info',\n",
       "   'VariableId': 129},\n",
       "  {'Value': None, 'ValueId': None, 'Variable': 'Turbo', 'VariableId': 135},\n",
       "  {'Value': None,\n",
       "   'ValueId': '',\n",
       "   'Variable': 'Top Speed (MPH)',\n",
       "   'VariableId': 139},\n",
       "  {'Value': None,\n",
       "   'ValueId': '',\n",
       "   'Variable': 'Engine Manufacturer',\n",
       "   'VariableId': 146},\n",
       "  {'Value': None,\n",
       "   'ValueId': None,\n",
       "   'Variable': 'Pretensioner',\n",
       "   'VariableId': 78},\n",
       "  {'Value': 'Manual',\n",
       "   'ValueId': '1',\n",
       "   'Variable': 'Seat Belts Type',\n",
       "   'VariableId': 79},\n",
       "  {'Value': 'Advanced air bag or Depowered airbag with suppression',\n",
       "   'ValueId': '',\n",
       "   'Variable': 'Other Restraint System Info',\n",
       "   'VariableId': 121},\n",
       "  {'Value': None,\n",
       "   'ValueId': None,\n",
       "   'Variable': 'Curtain Air Bag Locations',\n",
       "   'VariableId': 55},\n",
       "  {'Value': None,\n",
       "   'ValueId': None,\n",
       "   'Variable': 'Seat Cushion Air Bag Locations',\n",
       "   'VariableId': 56},\n",
       "  {'Value': '1st Row (Driver & Passenger)',\n",
       "   'ValueId': '3',\n",
       "   'Variable': 'Front Air Bag Locations',\n",
       "   'VariableId': 65},\n",
       "  {'Value': None,\n",
       "   'ValueId': None,\n",
       "   'Variable': 'Knee Air Bag Locations',\n",
       "   'VariableId': 69},\n",
       "  {'Value': None,\n",
       "   'ValueId': None,\n",
       "   'Variable': 'Side Air Bag Locations',\n",
       "   'VariableId': 107},\n",
       "  {'Value': None,\n",
       "   'ValueId': None,\n",
       "   'Variable': 'Driver Assist',\n",
       "   'VariableId': 16},\n",
       "  {'Value': None,\n",
       "   'ValueId': None,\n",
       "   'Variable': 'Adaptive Cruise Control',\n",
       "   'VariableId': 81},\n",
       "  {'Value': None,\n",
       "   'ValueId': None,\n",
       "   'Variable': 'Adaptive Headlights',\n",
       "   'VariableId': 82},\n",
       "  {'Value': None,\n",
       "   'ValueId': None,\n",
       "   'Variable': 'Anti-lock Braking System (ABS)',\n",
       "   'VariableId': 86},\n",
       "  {'Value': None,\n",
       "   'ValueId': None,\n",
       "   'Variable': 'Auto Brake / Auto Emergency Braking',\n",
       "   'VariableId': 87},\n",
       "  {'Value': None,\n",
       "   'ValueId': None,\n",
       "   'Variable': 'Blind Spot Monitoring / Detection',\n",
       "   'VariableId': 88},\n",
       "  {'Value': None,\n",
       "   'ValueId': None,\n",
       "   'Variable': 'Electronic Stability Control (ESC)',\n",
       "   'VariableId': 99},\n",
       "  {'Value': None,\n",
       "   'ValueId': None,\n",
       "   'Variable': 'Traction Control',\n",
       "   'VariableId': 100},\n",
       "  {'Value': None,\n",
       "   'ValueId': None,\n",
       "   'Variable': 'Forward Collision Warning',\n",
       "   'VariableId': 101},\n",
       "  {'Value': None,\n",
       "   'ValueId': None,\n",
       "   'Variable': 'Lane Departure Warning',\n",
       "   'VariableId': 102},\n",
       "  {'Value': None,\n",
       "   'ValueId': None,\n",
       "   'Variable': 'Lane Keep System',\n",
       "   'VariableId': 103},\n",
       "  {'Value': None,\n",
       "   'ValueId': None,\n",
       "   'Variable': 'Rear Visibility Camera',\n",
       "   'VariableId': 104},\n",
       "  {'Value': None,\n",
       "   'ValueId': None,\n",
       "   'Variable': 'Park Assist',\n",
       "   'VariableId': 105},\n",
       "  {'Value': 'Direct', 'ValueId': '1', 'Variable': 'TPMS', 'VariableId': 168},\n",
       "  {'Value': None,\n",
       "   'ValueId': '',\n",
       "   'Variable': 'Bus Length (feet)',\n",
       "   'VariableId': 147},\n",
       "  {'Value': None,\n",
       "   'ValueId': None,\n",
       "   'Variable': 'Bus Floor Configuration Type',\n",
       "   'VariableId': 148},\n",
       "  {'Value': None, 'ValueId': None, 'Variable': 'Bus Type', 'VariableId': 149},\n",
       "  {'Value': None,\n",
       "   'ValueId': '',\n",
       "   'Variable': 'Other Bus Info',\n",
       "   'VariableId': 150},\n",
       "  {'Value': None,\n",
       "   'ValueId': None,\n",
       "   'Variable': 'Custom Motorcycle Type',\n",
       "   'VariableId': 151},\n",
       "  {'Value': None,\n",
       "   'ValueId': None,\n",
       "   'Variable': 'Motorcycle Suspension Type',\n",
       "   'VariableId': 152},\n",
       "  {'Value': None,\n",
       "   'ValueId': None,\n",
       "   'Variable': 'Motorcycle Chassis Type',\n",
       "   'VariableId': 153},\n",
       "  {'Value': None,\n",
       "   'ValueId': '',\n",
       "   'Variable': 'Other Motorcycle Info',\n",
       "   'VariableId': 154}],\n",
       " 'SearchCriteria': 'VIN:5NPET46C49H491887'}"
      ]
     },
     "execution_count": 426,
     "metadata": {},
     "output_type": "execute_result"
    }
   ],
   "source": [
    "data2"
   ]
  },
  {
   "cell_type": "code",
   "execution_count": 424,
   "metadata": {
    "collapsed": true
   },
   "outputs": [],
   "source": [
    "df = pd.DataFrame.from_dict(data2, orient=\"index\")"
   ]
  },
  {
   "cell_type": "code",
   "execution_count": null,
   "metadata": {},
   "outputs": [],
   "source": []
  },
  {
   "cell_type": "code",
   "execution_count": null,
   "metadata": {
    "collapsed": true
   },
   "outputs": [],
   "source": []
  },
  {
   "cell_type": "code",
   "execution_count": null,
   "metadata": {},
   "outputs": [],
   "source": []
  },
  {
   "cell_type": "code",
   "execution_count": null,
   "metadata": {
    "collapsed": true
   },
   "outputs": [],
   "source": []
  },
  {
   "cell_type": "code",
   "execution_count": null,
   "metadata": {},
   "outputs": [],
   "source": []
  },
  {
   "cell_type": "code",
   "execution_count": null,
   "metadata": {
    "collapsed": true
   },
   "outputs": [],
   "source": []
  },
  {
   "cell_type": "code",
   "execution_count": null,
   "metadata": {},
   "outputs": [],
   "source": []
  },
  {
   "cell_type": "code",
   "execution_count": null,
   "metadata": {},
   "outputs": [],
   "source": []
  },
  {
   "cell_type": "code",
   "execution_count": null,
   "metadata": {
    "scrolled": true
   },
   "outputs": [],
   "source": []
  },
  {
   "cell_type": "code",
   "execution_count": null,
   "metadata": {
    "collapsed": true
   },
   "outputs": [],
   "source": []
  },
  {
   "cell_type": "code",
   "execution_count": null,
   "metadata": {},
   "outputs": [],
   "source": []
  },
  {
   "cell_type": "code",
   "execution_count": null,
   "metadata": {},
   "outputs": [],
   "source": []
  },
  {
   "cell_type": "code",
   "execution_count": null,
   "metadata": {
    "collapsed": true
   },
   "outputs": [],
   "source": []
  },
  {
   "cell_type": "code",
   "execution_count": null,
   "metadata": {},
   "outputs": [],
   "source": []
  },
  {
   "cell_type": "code",
   "execution_count": null,
   "metadata": {
    "collapsed": true
   },
   "outputs": [],
   "source": []
  },
  {
   "cell_type": "code",
   "execution_count": null,
   "metadata": {},
   "outputs": [],
   "source": []
  },
  {
   "cell_type": "code",
   "execution_count": null,
   "metadata": {
    "scrolled": true
   },
   "outputs": [],
   "source": []
  }
 ],
 "metadata": {
  "kernelspec": {
   "display_name": "Python 3",
   "language": "python",
   "name": "python3"
  },
  "language_info": {
   "codemirror_mode": {
    "name": "ipython",
    "version": 3
   },
   "file_extension": ".py",
   "mimetype": "text/x-python",
   "name": "python",
   "nbconvert_exporter": "python",
   "pygments_lexer": "ipython3",
   "version": "3.6.2"
  }
 },
 "nbformat": 4,
 "nbformat_minor": 2
}
