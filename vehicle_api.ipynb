{
 "cells": [
  {
   "cell_type": "code",
   "execution_count": 121,
   "metadata": {
    "collapsed": true
   },
   "outputs": [],
   "source": [
    "# Dependencies\n",
    "import json\n",
    "import requests as req\n",
    "from pprint import pprint\n",
    "import pandas as pd"
   ]
  },
  {
   "cell_type": "code",
   "execution_count": 122,
   "metadata": {},
   "outputs": [
    {
     "name": "stdout",
     "output_type": "stream",
     "text": [
      "cars\n",
      "Craigslist_VIN.ipynb\n",
      "craigslist_vins.csv\n",
      "vehicle_api.ipynb\n"
     ]
    }
   ],
   "source": [
    "!ls"
   ]
  },
  {
   "cell_type": "code",
   "execution_count": 123,
   "metadata": {},
   "outputs": [],
   "source": [
    "data_craig = pd.read_csv('craigslist_vins.csv')\n"
   ]
  },
  {
   "cell_type": "code",
   "execution_count": 124,
   "metadata": {},
   "outputs": [
    {
     "data": {
      "text/plain": [
       "array(['JF1VA1G69F8808849', '1FA6P8CF7F5305341', 'WDDGJ4HBXEG182996',\n",
       "       'JHMAP21457S001834', '1FTFX1CF3BFC22544', '1FTPW12514KC66407',\n",
       "       '1FTWW33P06EC90643', '5TEHN72N74Z327541', '4S4BP61C897344174',\n",
       "       '1FMSU43F92ED63614', '3VWL07AJ9GM365326', 'WMWRC33546TK16719',\n",
       "       'JA3AH86D34U065721', 'YV4CY592861284579', 'WBAVA33577PV65033',\n",
       "       'WVWHV71K77W023151', '3N1AB7AP7EY311704', '1D7HU18N98J189398',\n",
       "       '19XFB2F57EE222651', 'JM1BL1U72D1766941', '1HGCS2B81BA000268',\n",
       "       'JF1GD70625L512774', '1G6DN56S050154999', 'WDDGF81X39F197835',\n",
       "       '4A3AK24F18E004594', '1FAFP48YX3F393021', '3FAHP0GA5BR148604',\n",
       "       '2G2FV22G722117095', 'JA3AH86C96U012533', '19UUA66215A065985',\n",
       "       'JH4DC53036S022376', 'JF1GD76657L522211', 'JN8AZ18UX9W028619',\n",
       "       '5FNRL5H2XDB090119', 'JN8AZ1MU0CW100182', 'JN1BZ36A87M650913',\n",
       "       '1D7HU18287S258029', '1ZVBP8AM8B5103495', '1ZVBP8CH9A5146015',\n",
       "       '1FMEU63E58UA21558', '1NXAE04B6SZ342593', '1G1YT3D67G5500026',\n",
       "       '1J4GB59147L184427', 'JF2GPAKC0HH236265'], dtype=object)"
      ]
     },
     "execution_count": 124,
     "metadata": {},
     "output_type": "execute_result"
    }
   ],
   "source": [
    "vins = data_craig[\"Vin Number\"].values\n",
    "vins"
   ]
  },
  {
   "cell_type": "code",
   "execution_count": 125,
   "metadata": {
    "collapsed": true
   },
   "outputs": [],
   "source": [
    "# vins = ['JTEZU14R470090477', '1HGCM56393AO35605', '5NPET46C49H491887', '1C4RJEBG9FC727706']"
   ]
  },
  {
   "cell_type": "code",
   "execution_count": 126,
   "metadata": {},
   "outputs": [
    {
     "data": {
      "text/plain": [
       "'JF1VA1G69F8808849'"
      ]
     },
     "execution_count": 126,
     "metadata": {},
     "output_type": "execute_result"
    }
   ],
   "source": [
    "vins[0]"
   ]
  },
  {
   "cell_type": "code",
   "execution_count": 127,
   "metadata": {
    "collapsed": true
   },
   "outputs": [],
   "source": [
    "urls = []"
   ]
  },
  {
   "cell_type": "code",
   "execution_count": 128,
   "metadata": {
    "collapsed": true
   },
   "outputs": [],
   "source": [
    "for vin in vins:\n",
    "    url = f\"https://vpic.nhtsa.dot.gov/api/vehicles/DecodeVin/{vin}?format=json\"\n",
    "    urls.append(url)"
   ]
  },
  {
   "cell_type": "code",
   "execution_count": 129,
   "metadata": {
    "collapsed": true
   },
   "outputs": [],
   "source": [
    "datas = []"
   ]
  },
  {
   "cell_type": "code",
   "execution_count": 130,
   "metadata": {
    "collapsed": true
   },
   "outputs": [],
   "source": [
    "for url in urls:\n",
    "    #print(url)\n",
    "    response = req.get(url)\n",
    "    data = response.json()\n",
    "    datas.append(data)"
   ]
  },
  {
   "cell_type": "code",
   "execution_count": 131,
   "metadata": {
    "collapsed": true
   },
   "outputs": [],
   "source": [
    "car_makers = []\n",
    "car_names = []\n",
    "car_years = []\n",
    "car_models = []"
   ]
  },
  {
   "cell_type": "code",
   "execution_count": 132,
   "metadata": {
    "collapsed": true
   },
   "outputs": [],
   "source": [
    "for x in datas:\n",
    "    def pprint(jsondata):\n",
    "        print(json.dumps(jsondata, indent=4))"
   ]
  },
  {
   "cell_type": "code",
   "execution_count": 133,
   "metadata": {
    "collapsed": true
   },
   "outputs": [],
   "source": [
    "for x in datas:\n",
    "    car_makers.append(x['Results'][5]['Value'])\n",
    "    car_names.append(x['Results'][7]['Value'])\n",
    "    car_years.append(x['Results'][8]['Value'])\n",
    "    car_models.append(x['Results'][11]['Value'])"
   ]
  },
  {
   "cell_type": "code",
   "execution_count": 134,
   "metadata": {},
   "outputs": [
    {
     "data": {
      "text/plain": [
       "['WRX',\n",
       " 'Mustang',\n",
       " 'C-Class',\n",
       " 'S2000',\n",
       " 'F-150',\n",
       " 'F-150',\n",
       " 'F-350',\n",
       " 'Tacoma',\n",
       " 'Outback',\n",
       " 'Excursion',\n",
       " 'Jetta',\n",
       " 'Cooper',\n",
       " 'Lancer Evolution',\n",
       " 'XC90',\n",
       " '328i',\n",
       " 'GTI',\n",
       " 'Sentra',\n",
       " 'Ram',\n",
       " 'Civic',\n",
       " 'Mazda3',\n",
       " 'Accord',\n",
       " 'Impreza',\n",
       " 'CTS',\n",
       " 'C-Class',\n",
       " 'Eclipse',\n",
       " 'Mustang',\n",
       " 'Fusion',\n",
       " 'Formula & Convertible',\n",
       " 'Lancer',\n",
       " 'TL',\n",
       " 'RSX',\n",
       " 'Impreza',\n",
       " 'Murano',\n",
       " 'Odyssey',\n",
       " 'Murano',\n",
       " '350Z',\n",
       " 'Ram',\n",
       " 'Mustang',\n",
       " 'Mustang',\n",
       " 'Explorer',\n",
       " 'Corolla',\n",
       " 'Corvette',\n",
       " 'Wrangler',\n",
       " 'Crosstrek']"
      ]
     },
     "execution_count": 134,
     "metadata": {},
     "output_type": "execute_result"
    }
   ],
   "source": [
    "car_names"
   ]
  },
  {
   "cell_type": "code",
   "execution_count": 135,
   "metadata": {
    "collapsed": true
   },
   "outputs": [],
   "source": [
    "the_cars = []"
   ]
  },
  {
   "cell_type": "code",
   "execution_count": 136,
   "metadata": {
    "collapsed": true
   },
   "outputs": [],
   "source": [
    "for i in range(len(car_makers)):\n",
    "    the_car = f\"{car_makers[i]}_{car_names[i]}_{car_years[i]}_{car_models[i]}\"\n",
    "    the_cars.append(the_car)"
   ]
  },
  {
   "cell_type": "code",
   "execution_count": 137,
   "metadata": {},
   "outputs": [
    {
     "data": {
      "text/plain": [
       "['WRX Limited+Moonroof',\n",
       " None,\n",
       " None,\n",
       " None,\n",
       " None,\n",
       " 'F-Series',\n",
       " None,\n",
       " 'DELUXE',\n",
       " 'OBK 2.5i',\n",
       " 'Limited',\n",
       " None,\n",
       " None,\n",
       " None,\n",
       " 'ULEV2',\n",
       " None,\n",
       " None,\n",
       " None,\n",
       " '1500',\n",
       " None,\n",
       " 'Sport/GX',\n",
       " 'EX-L',\n",
       " None,\n",
       " None,\n",
       " '4-MATIC',\n",
       " None,\n",
       " 'Cobra',\n",
       " 'S',\n",
       " None,\n",
       " 'EVOLUTION',\n",
       " 'BASE',\n",
       " 'TYPE-S',\n",
       " 'STI',\n",
       " None,\n",
       " None,\n",
       " None,\n",
       " None,\n",
       " '1500',\n",
       " 'V6 Coupe ',\n",
       " 'GT',\n",
       " 'XLT',\n",
       " None,\n",
       " None,\n",
       " 'Sahara / Unlimited Sahara',\n",
       " 'Limited']"
      ]
     },
     "execution_count": 137,
     "metadata": {},
     "output_type": "execute_result"
    }
   ],
   "source": [
    "car_models"
   ]
  },
  {
   "cell_type": "code",
   "execution_count": 138,
   "metadata": {},
   "outputs": [
    {
     "name": "stdout",
     "output_type": "stream",
     "text": [
      "SUBARU_WRX_2015_WRX Limited+Moonroof\n",
      "FORD_Mustang_2015_None\n",
      "MERCEDES-BENZ_C-Class_2014_None\n",
      "HONDA_S2000_2007_None\n",
      "FORD_F-150_2011_None\n",
      "FORD_F-150_2004_F-Series\n",
      "FORD_F-350_2006_None\n",
      "TOYOTA_Tacoma_2004_DELUXE\n",
      "SUBARU_Outback_2009_OBK 2.5i\n",
      "FORD_Excursion_2002_Limited\n",
      "VOLKSWAGEN_Jetta_2016_None\n",
      "MINI_Cooper_2006_None\n",
      "MITSUBISHI_Lancer Evolution_2004_None\n",
      "VOLVO_XC90_2006_ULEV2\n",
      "BMW_328i_2007_None\n",
      "VOLKSWAGEN_GTI_2007_None\n",
      "NISSAN_Sentra_2014_None\n",
      "DODGE_Ram_2008_1500\n",
      "HONDA_Civic_2014_None\n",
      "MAZDA_Mazda3_2013_Sport/GX\n",
      "none\n",
      "HONDA_Accord_2011_EX-L\n",
      "SUBARU_Impreza_2005_None\n",
      "CADILLAC_CTS_2005_None\n",
      "MERCEDES-BENZ_C-Class_2009_4-MATIC\n",
      "MITSUBISHI_Eclipse_2008_None\n",
      "FORD_Mustang_2003_Cobra\n",
      "FORD_Fusion_2011_S\n",
      "PONTIAC_Formula & Convertible_2002_None\n",
      "MITSUBISHI_Lancer_2006_EVOLUTION\n",
      "ACURA_TL_2005_BASE\n",
      "ACURA_RSX_2006_TYPE-S\n",
      "SUBARU_Impreza_2007_STI\n",
      "NISSAN_Murano_2009_None\n",
      "HONDA_Odyssey_2013_None\n",
      "NISSAN_Murano_2012_None\n",
      "NISSAN_350Z_2007_None\n",
      "DODGE_Ram_2007_1500\n",
      "FORD_Mustang_2011_V6 Coupe \n",
      "FORD_Mustang_2010_GT\n",
      "FORD_Explorer_2008_XLT\n",
      "TOYOTA_Corolla_1995_None\n",
      "CHEVROLET_Corvette_2016_None\n",
      "JEEP_Wrangler_2007_Sahara / Unlimited Sahara\n",
      "none\n",
      "SUBARU_Crosstrek_2017_Limited\n"
     ]
    }
   ],
   "source": [
    "root = 'cars'\n",
    "for the_car in the_cars:\n",
    "    print(the_car)\n",
    "    try:\n",
    "        with open(root + '/' + f'{the_car}.json', 'w') as fp:\n",
    "            json.dump(data, fp)\n",
    "    except FileNotFoundError:\n",
    "        print('none')"
   ]
  },
  {
   "cell_type": "code",
   "execution_count": 139,
   "metadata": {},
   "outputs": [],
   "source": [
    "with open('cars/CADILLAC_SRX_2011_None.json', 'r') as fp:\n",
    "    data2= json.load(fp)"
   ]
  },
  {
   "cell_type": "code",
   "execution_count": 140,
   "metadata": {},
   "outputs": [
    {
     "data": {
      "text/plain": [
       "{'Count': 116,\n",
       " 'Message': 'Results returned successfully',\n",
       " 'Results': [{'Value': '',\n",
       "   'ValueId': '',\n",
       "   'Variable': 'Suggested VIN',\n",
       "   'VariableId': 142},\n",
       "  {'Value': '0 - VIN decoded clean. Check Digit (9th position) is correct',\n",
       "   'ValueId': '0',\n",
       "   'Variable': 'Error Code',\n",
       "   'VariableId': 143},\n",
       "  {'Value': '',\n",
       "   'ValueId': '',\n",
       "   'Variable': 'Possible Values',\n",
       "   'VariableId': 144},\n",
       "  {'Value': '',\n",
       "   'ValueId': '',\n",
       "   'Variable': 'Additional Error Text',\n",
       "   'VariableId': 156},\n",
       "  {'Value': None,\n",
       "   'ValueId': None,\n",
       "   'Variable': 'Destination Market',\n",
       "   'VariableId': 10},\n",
       "  {'Value': 'HONDA', 'ValueId': '474', 'Variable': 'Make', 'VariableId': 26},\n",
       "  {'Value': 'HONDA OF CANADA MFG., INC.',\n",
       "   'ValueId': '990',\n",
       "   'Variable': 'Manufacturer Name',\n",
       "   'VariableId': 27},\n",
       "  {'Value': 'Odyssey',\n",
       "   'ValueId': '1869',\n",
       "   'Variable': 'Model',\n",
       "   'VariableId': 28},\n",
       "  {'Value': '2001', 'ValueId': '', 'Variable': 'Model Year', 'VariableId': 29},\n",
       "  {'Value': 'Alliston',\n",
       "   'ValueId': '',\n",
       "   'Variable': 'Plant City',\n",
       "   'VariableId': 31},\n",
       "  {'Value': 'EX', 'ValueId': '', 'Variable': 'Series', 'VariableId': 34},\n",
       "  {'Value': None, 'ValueId': '', 'Variable': 'Trim', 'VariableId': 38},\n",
       "  {'Value': 'MULTIPURPOSE PASSENGER VEHICLE (MPV)',\n",
       "   'ValueId': '7',\n",
       "   'Variable': 'Vehicle Type',\n",
       "   'VariableId': 39},\n",
       "  {'Value': 'Canada',\n",
       "   'ValueId': '1',\n",
       "   'Variable': 'Plant Country',\n",
       "   'VariableId': 75},\n",
       "  {'Value': None,\n",
       "   'ValueId': '',\n",
       "   'Variable': 'Plant Company Name',\n",
       "   'VariableId': 76},\n",
       "  {'Value': 'Ontario',\n",
       "   'ValueId': '',\n",
       "   'Variable': 'Plant State',\n",
       "   'VariableId': 77},\n",
       "  {'Value': None, 'ValueId': '', 'Variable': 'Trim2', 'VariableId': 109},\n",
       "  {'Value': None, 'ValueId': '', 'Variable': 'Series2', 'VariableId': 110},\n",
       "  {'Value': None, 'ValueId': '', 'Variable': 'Note', 'VariableId': 114},\n",
       "  {'Value': None,\n",
       "   'ValueId': '',\n",
       "   'Variable': 'Base Price ($)',\n",
       "   'VariableId': 136},\n",
       "  {'Value': '990',\n",
       "   'ValueId': '',\n",
       "   'Variable': 'Manufacturer Id',\n",
       "   'VariableId': 157},\n",
       "  {'Value': None,\n",
       "   'ValueId': '',\n",
       "   'Variable': 'Cash For Clunkers',\n",
       "   'VariableId': 158},\n",
       "  {'Value': 'Sport Utility Vehicle (SUV)/Multi Purpose Vehicle (MPV)',\n",
       "   'ValueId': '7',\n",
       "   'Variable': 'Body Class',\n",
       "   'VariableId': 5},\n",
       "  {'Value': '5', 'ValueId': '', 'Variable': 'Doors', 'VariableId': 14},\n",
       "  {'Value': None, 'ValueId': '', 'Variable': 'Windows', 'VariableId': 40},\n",
       "  {'Value': None,\n",
       "   'ValueId': None,\n",
       "   'Variable': 'Wheel Base Type',\n",
       "   'VariableId': 60},\n",
       "  {'Value': None, 'ValueId': '', 'Variable': 'Track Width', 'VariableId': 159},\n",
       "  {'Value': 'Class 1D: 5,001 - 6,000 lb (2,268 - 2,722 kg)',\n",
       "   'ValueId': '13',\n",
       "   'Variable': 'Gross Vehicle Weight Rating',\n",
       "   'VariableId': 25},\n",
       "  {'Value': None,\n",
       "   'ValueId': '',\n",
       "   'Variable': 'Bed Length (inches)',\n",
       "   'VariableId': 49},\n",
       "  {'Value': None,\n",
       "   'ValueId': '',\n",
       "   'Variable': 'Curb Weight (pounds)',\n",
       "   'VariableId': 54},\n",
       "  {'Value': None,\n",
       "   'ValueId': '',\n",
       "   'Variable': 'Wheel Base (inches)',\n",
       "   'VariableId': 111},\n",
       "  {'Value': None,\n",
       "   'ValueId': '',\n",
       "   'Variable': 'Wheel Base (inches) up to',\n",
       "   'VariableId': 112},\n",
       "  {'Value': None, 'ValueId': None, 'Variable': 'Bed Type', 'VariableId': 3},\n",
       "  {'Value': None, 'ValueId': None, 'Variable': 'Cab Type', 'VariableId': 4},\n",
       "  {'Value': None,\n",
       "   'ValueId': None,\n",
       "   'Variable': 'Trailer Type Connection',\n",
       "   'VariableId': 116},\n",
       "  {'Value': None,\n",
       "   'ValueId': None,\n",
       "   'Variable': 'Trailer Body Type',\n",
       "   'VariableId': 117},\n",
       "  {'Value': None,\n",
       "   'ValueId': '',\n",
       "   'Variable': 'Trailer Length (feet)',\n",
       "   'VariableId': 118},\n",
       "  {'Value': None,\n",
       "   'ValueId': '',\n",
       "   'Variable': 'Other Trailer Info',\n",
       "   'VariableId': 155},\n",
       "  {'Value': None,\n",
       "   'ValueId': '',\n",
       "   'Variable': 'Number of Wheels',\n",
       "   'VariableId': 115},\n",
       "  {'Value': None,\n",
       "   'ValueId': '',\n",
       "   'Variable': 'Wheel Size Front (inches)',\n",
       "   'VariableId': 119},\n",
       "  {'Value': None,\n",
       "   'ValueId': '',\n",
       "   'Variable': 'Wheel Size Rear (inches)',\n",
       "   'VariableId': 120},\n",
       "  {'Value': None,\n",
       "   'ValueId': None,\n",
       "   'Variable': 'Entertainment System',\n",
       "   'VariableId': 23},\n",
       "  {'Value': None,\n",
       "   'ValueId': None,\n",
       "   'Variable': 'Steering Location',\n",
       "   'VariableId': 36},\n",
       "  {'Value': None,\n",
       "   'ValueId': '',\n",
       "   'Variable': 'Number of Seats',\n",
       "   'VariableId': 33},\n",
       "  {'Value': None,\n",
       "   'ValueId': '',\n",
       "   'Variable': 'Number of Seat Rows',\n",
       "   'VariableId': 61},\n",
       "  {'Value': 'Automatic',\n",
       "   'ValueId': '2',\n",
       "   'Variable': 'Transmission Style',\n",
       "   'VariableId': 37},\n",
       "  {'Value': '4',\n",
       "   'ValueId': '',\n",
       "   'Variable': 'Transmission Speeds',\n",
       "   'VariableId': 63},\n",
       "  {'Value': None, 'ValueId': None, 'Variable': 'Drive Type', 'VariableId': 15},\n",
       "  {'Value': None, 'ValueId': '', 'Variable': 'Axles', 'VariableId': 41},\n",
       "  {'Value': None,\n",
       "   'ValueId': None,\n",
       "   'Variable': 'Axle Configuration',\n",
       "   'VariableId': 145},\n",
       "  {'Value': 'Hydraulic',\n",
       "   'ValueId': '2',\n",
       "   'Variable': 'Brake System Type',\n",
       "   'VariableId': 42},\n",
       "  {'Value': None,\n",
       "   'ValueId': '',\n",
       "   'Variable': 'Brake System Description',\n",
       "   'VariableId': 52},\n",
       "  {'Value': None, 'ValueId': '', 'Variable': 'Battery Info', 'VariableId': 1},\n",
       "  {'Value': None,\n",
       "   'ValueId': None,\n",
       "   'Variable': 'Battery Type',\n",
       "   'VariableId': 2},\n",
       "  {'Value': None,\n",
       "   'ValueId': '',\n",
       "   'Variable': 'Number of Battery Cells per Module',\n",
       "   'VariableId': 48},\n",
       "  {'Value': None,\n",
       "   'ValueId': '',\n",
       "   'Variable': 'Battery Current (Amps)',\n",
       "   'VariableId': 57},\n",
       "  {'Value': None,\n",
       "   'ValueId': '',\n",
       "   'Variable': 'Battery Voltage (Volts)',\n",
       "   'VariableId': 58},\n",
       "  {'Value': None,\n",
       "   'ValueId': '',\n",
       "   'Variable': 'Battery Energy (KWh)',\n",
       "   'VariableId': 59},\n",
       "  {'Value': None,\n",
       "   'ValueId': None,\n",
       "   'Variable': 'EV Drive Unit',\n",
       "   'VariableId': 72},\n",
       "  {'Value': None,\n",
       "   'ValueId': '',\n",
       "   'Variable': 'Battery Current (Amps) up to',\n",
       "   'VariableId': 132},\n",
       "  {'Value': None,\n",
       "   'ValueId': '',\n",
       "   'Variable': 'Battery Voltage (Volts) up to',\n",
       "   'VariableId': 133},\n",
       "  {'Value': None,\n",
       "   'ValueId': '',\n",
       "   'Variable': 'Battery Energy (KWh) up to',\n",
       "   'VariableId': 134},\n",
       "  {'Value': None,\n",
       "   'ValueId': '',\n",
       "   'Variable': 'Number of Battery Modules per Pack',\n",
       "   'VariableId': 137},\n",
       "  {'Value': None,\n",
       "   'ValueId': '',\n",
       "   'Variable': 'Number of Battery Packs per Vehicle',\n",
       "   'VariableId': 138},\n",
       "  {'Value': None,\n",
       "   'ValueId': None,\n",
       "   'Variable': 'Charger Level',\n",
       "   'VariableId': 127},\n",
       "  {'Value': None,\n",
       "   'ValueId': '',\n",
       "   'Variable': 'Charger Power (KW)',\n",
       "   'VariableId': 128},\n",
       "  {'Value': '6',\n",
       "   'ValueId': '',\n",
       "   'Variable': 'Engine Number of Cylinders',\n",
       "   'VariableId': 9},\n",
       "  {'Value': '3474.057568',\n",
       "   'ValueId': '',\n",
       "   'Variable': 'Displacement (CC)',\n",
       "   'VariableId': 11},\n",
       "  {'Value': '212',\n",
       "   'ValueId': '',\n",
       "   'Variable': 'Displacement (CI)',\n",
       "   'VariableId': 12},\n",
       "  {'Value': '3.474057568',\n",
       "   'ValueId': '',\n",
       "   'Variable': 'Displacement (L)',\n",
       "   'VariableId': 13},\n",
       "  {'Value': None,\n",
       "   'ValueId': '',\n",
       "   'Variable': 'Engine Stroke Cycles',\n",
       "   'VariableId': 17},\n",
       "  {'Value': 'J35A1',\n",
       "   'ValueId': '',\n",
       "   'Variable': 'Engine Model',\n",
       "   'VariableId': 18},\n",
       "  {'Value': '156.5970',\n",
       "   'ValueId': '',\n",
       "   'Variable': 'Engine Power (KW)',\n",
       "   'VariableId': 21},\n",
       "  {'Value': 'Gasoline',\n",
       "   'ValueId': '4',\n",
       "   'Variable': 'Fuel Type - Primary',\n",
       "   'VariableId': 24},\n",
       "  {'Value': 'Single Overhead Cam (SOHC)',\n",
       "   'ValueId': '4',\n",
       "   'Variable': 'Valve Train Design',\n",
       "   'VariableId': 62},\n",
       "  {'Value': 'V-Shaped',\n",
       "   'ValueId': '2',\n",
       "   'Variable': 'Engine Configuration',\n",
       "   'VariableId': 64},\n",
       "  {'Value': None,\n",
       "   'ValueId': None,\n",
       "   'Variable': 'Fuel Type - Secondary',\n",
       "   'VariableId': 66},\n",
       "  {'Value': None,\n",
       "   'ValueId': None,\n",
       "   'Variable': 'Fuel Delivery / Fuel Injection Type',\n",
       "   'VariableId': 67},\n",
       "  {'Value': '210',\n",
       "   'ValueId': '',\n",
       "   'Variable': 'Engine Brake (hp)',\n",
       "   'VariableId': 71},\n",
       "  {'Value': None,\n",
       "   'ValueId': None,\n",
       "   'Variable': 'Cooling Type',\n",
       "   'VariableId': 122},\n",
       "  {'Value': None,\n",
       "   'ValueId': '',\n",
       "   'Variable': 'Engine Brake (hp) up to',\n",
       "   'VariableId': 125},\n",
       "  {'Value': None,\n",
       "   'ValueId': None,\n",
       "   'Variable': 'Electrification Level',\n",
       "   'VariableId': 126},\n",
       "  {'Value': None,\n",
       "   'ValueId': '',\n",
       "   'Variable': 'Other Engine Info',\n",
       "   'VariableId': 129},\n",
       "  {'Value': None, 'ValueId': None, 'Variable': 'Turbo', 'VariableId': 135},\n",
       "  {'Value': None,\n",
       "   'ValueId': '',\n",
       "   'Variable': 'Top Speed (MPH)',\n",
       "   'VariableId': 139},\n",
       "  {'Value': None,\n",
       "   'ValueId': '',\n",
       "   'Variable': 'Engine Manufacturer',\n",
       "   'VariableId': 146},\n",
       "  {'Value': None,\n",
       "   'ValueId': None,\n",
       "   'Variable': 'Pretensioner',\n",
       "   'VariableId': 78},\n",
       "  {'Value': None,\n",
       "   'ValueId': None,\n",
       "   'Variable': 'Seat Belts Type',\n",
       "   'VariableId': 79},\n",
       "  {'Value': None,\n",
       "   'ValueId': '',\n",
       "   'Variable': 'Other Restraint System Info',\n",
       "   'VariableId': 121},\n",
       "  {'Value': None,\n",
       "   'ValueId': None,\n",
       "   'Variable': 'Curtain Air Bag Locations',\n",
       "   'VariableId': 55},\n",
       "  {'Value': None,\n",
       "   'ValueId': None,\n",
       "   'Variable': 'Seat Cushion Air Bag Locations',\n",
       "   'VariableId': 56},\n",
       "  {'Value': None,\n",
       "   'ValueId': None,\n",
       "   'Variable': 'Front Air Bag Locations',\n",
       "   'VariableId': 65},\n",
       "  {'Value': None,\n",
       "   'ValueId': None,\n",
       "   'Variable': 'Knee Air Bag Locations',\n",
       "   'VariableId': 69},\n",
       "  {'Value': None,\n",
       "   'ValueId': None,\n",
       "   'Variable': 'Side Air Bag Locations',\n",
       "   'VariableId': 107},\n",
       "  {'Value': None,\n",
       "   'ValueId': None,\n",
       "   'Variable': 'Driver Assist',\n",
       "   'VariableId': 16},\n",
       "  {'Value': None,\n",
       "   'ValueId': None,\n",
       "   'Variable': 'Adaptive Cruise Control',\n",
       "   'VariableId': 81},\n",
       "  {'Value': None,\n",
       "   'ValueId': None,\n",
       "   'Variable': 'Adaptive Headlights',\n",
       "   'VariableId': 82},\n",
       "  {'Value': None,\n",
       "   'ValueId': None,\n",
       "   'Variable': 'Anti-lock Braking System (ABS)',\n",
       "   'VariableId': 86},\n",
       "  {'Value': None,\n",
       "   'ValueId': None,\n",
       "   'Variable': 'Auto Brake / Auto Emergency Braking',\n",
       "   'VariableId': 87},\n",
       "  {'Value': None,\n",
       "   'ValueId': None,\n",
       "   'Variable': 'Blind Spot Monitoring / Detection',\n",
       "   'VariableId': 88},\n",
       "  {'Value': None,\n",
       "   'ValueId': None,\n",
       "   'Variable': 'Electronic Stability Control (ESC)',\n",
       "   'VariableId': 99},\n",
       "  {'Value': None,\n",
       "   'ValueId': None,\n",
       "   'Variable': 'Traction Control',\n",
       "   'VariableId': 100},\n",
       "  {'Value': None,\n",
       "   'ValueId': None,\n",
       "   'Variable': 'Forward Collision Warning',\n",
       "   'VariableId': 101},\n",
       "  {'Value': None,\n",
       "   'ValueId': None,\n",
       "   'Variable': 'Lane Departure Warning',\n",
       "   'VariableId': 102},\n",
       "  {'Value': None,\n",
       "   'ValueId': None,\n",
       "   'Variable': 'Lane Keep System',\n",
       "   'VariableId': 103},\n",
       "  {'Value': None,\n",
       "   'ValueId': None,\n",
       "   'Variable': 'Rear Visibility Camera',\n",
       "   'VariableId': 104},\n",
       "  {'Value': None,\n",
       "   'ValueId': None,\n",
       "   'Variable': 'Park Assist',\n",
       "   'VariableId': 105},\n",
       "  {'Value': None, 'ValueId': None, 'Variable': 'TPMS', 'VariableId': 168},\n",
       "  {'Value': None,\n",
       "   'ValueId': '',\n",
       "   'Variable': 'Bus Length (feet)',\n",
       "   'VariableId': 147},\n",
       "  {'Value': None,\n",
       "   'ValueId': None,\n",
       "   'Variable': 'Bus Floor Configuration Type',\n",
       "   'VariableId': 148},\n",
       "  {'Value': None, 'ValueId': None, 'Variable': 'Bus Type', 'VariableId': 149},\n",
       "  {'Value': None,\n",
       "   'ValueId': '',\n",
       "   'Variable': 'Other Bus Info',\n",
       "   'VariableId': 150},\n",
       "  {'Value': None,\n",
       "   'ValueId': None,\n",
       "   'Variable': 'Custom Motorcycle Type',\n",
       "   'VariableId': 151},\n",
       "  {'Value': None,\n",
       "   'ValueId': None,\n",
       "   'Variable': 'Motorcycle Suspension Type',\n",
       "   'VariableId': 152},\n",
       "  {'Value': None,\n",
       "   'ValueId': None,\n",
       "   'Variable': 'Motorcycle Chassis Type',\n",
       "   'VariableId': 153},\n",
       "  {'Value': None,\n",
       "   'ValueId': '',\n",
       "   'Variable': 'Other Motorcycle Info',\n",
       "   'VariableId': 154}],\n",
       " 'SearchCriteria': 'VIN:2HKRL18651H544866'}"
      ]
     },
     "execution_count": 140,
     "metadata": {},
     "output_type": "execute_result"
    }
   ],
   "source": [
    "data2"
   ]
  },
  {
   "cell_type": "code",
   "execution_count": 142,
   "metadata": {},
   "outputs": [
    {
     "data": {
      "text/html": [
       "<div>\n",
       "<style>\n",
       "    .dataframe thead tr:only-child th {\n",
       "        text-align: right;\n",
       "    }\n",
       "\n",
       "    .dataframe thead th {\n",
       "        text-align: left;\n",
       "    }\n",
       "\n",
       "    .dataframe tbody tr th {\n",
       "        vertical-align: top;\n",
       "    }\n",
       "</style>\n",
       "<table border=\"1\" class=\"dataframe\">\n",
       "  <thead>\n",
       "    <tr style=\"text-align: right;\">\n",
       "      <th></th>\n",
       "      <th>0</th>\n",
       "    </tr>\n",
       "  </thead>\n",
       "  <tbody>\n",
       "    <tr>\n",
       "      <th>Count</th>\n",
       "      <td>116</td>\n",
       "    </tr>\n",
       "    <tr>\n",
       "      <th>Message</th>\n",
       "      <td>Results returned successfully</td>\n",
       "    </tr>\n",
       "    <tr>\n",
       "      <th>SearchCriteria</th>\n",
       "      <td>VIN:2HKRL18651H544866</td>\n",
       "    </tr>\n",
       "    <tr>\n",
       "      <th>Results</th>\n",
       "      <td>[{'Value': '', 'ValueId': '', 'Variable': 'Sug...</td>\n",
       "    </tr>\n",
       "  </tbody>\n",
       "</table>\n",
       "</div>"
      ],
      "text/plain": [
       "                                                                0\n",
       "Count                                                         116\n",
       "Message                             Results returned successfully\n",
       "SearchCriteria                              VIN:2HKRL18651H544866\n",
       "Results         [{'Value': '', 'ValueId': '', 'Variable': 'Sug..."
      ]
     },
     "execution_count": 142,
     "metadata": {},
     "output_type": "execute_result"
    }
   ],
   "source": [
    "df = pd.DataFrame.from_dict(data2, orient=\"index\")\n",
    "df"
   ]
  },
  {
   "cell_type": "code",
   "execution_count": null,
   "metadata": {
    "collapsed": true
   },
   "outputs": [],
   "source": []
  },
  {
   "cell_type": "code",
   "execution_count": null,
   "metadata": {
    "collapsed": true
   },
   "outputs": [],
   "source": []
  },
  {
   "cell_type": "code",
   "execution_count": null,
   "metadata": {
    "collapsed": true
   },
   "outputs": [],
   "source": []
  },
  {
   "cell_type": "code",
   "execution_count": null,
   "metadata": {
    "collapsed": true
   },
   "outputs": [],
   "source": []
  },
  {
   "cell_type": "code",
   "execution_count": null,
   "metadata": {
    "collapsed": true
   },
   "outputs": [],
   "source": []
  },
  {
   "cell_type": "code",
   "execution_count": null,
   "metadata": {
    "collapsed": true
   },
   "outputs": [],
   "source": []
  },
  {
   "cell_type": "code",
   "execution_count": null,
   "metadata": {
    "collapsed": true
   },
   "outputs": [],
   "source": []
  },
  {
   "cell_type": "code",
   "execution_count": null,
   "metadata": {
    "collapsed": true
   },
   "outputs": [],
   "source": []
  },
  {
   "cell_type": "code",
   "execution_count": null,
   "metadata": {
    "collapsed": true,
    "scrolled": true
   },
   "outputs": [],
   "source": []
  },
  {
   "cell_type": "code",
   "execution_count": null,
   "metadata": {
    "collapsed": true
   },
   "outputs": [],
   "source": []
  },
  {
   "cell_type": "code",
   "execution_count": null,
   "metadata": {
    "collapsed": true
   },
   "outputs": [],
   "source": []
  },
  {
   "cell_type": "code",
   "execution_count": null,
   "metadata": {
    "collapsed": true
   },
   "outputs": [],
   "source": []
  },
  {
   "cell_type": "code",
   "execution_count": null,
   "metadata": {
    "collapsed": true
   },
   "outputs": [],
   "source": []
  },
  {
   "cell_type": "code",
   "execution_count": null,
   "metadata": {
    "collapsed": true
   },
   "outputs": [],
   "source": []
  },
  {
   "cell_type": "code",
   "execution_count": null,
   "metadata": {
    "collapsed": true
   },
   "outputs": [],
   "source": []
  },
  {
   "cell_type": "code",
   "execution_count": null,
   "metadata": {
    "collapsed": true
   },
   "outputs": [],
   "source": []
  },
  {
   "cell_type": "code",
   "execution_count": null,
   "metadata": {
    "collapsed": true,
    "scrolled": true
   },
   "outputs": [],
   "source": []
  }
 ],
 "metadata": {
  "kernelspec": {
   "display_name": "Python 3",
   "language": "python",
   "name": "python3"
  },
  "language_info": {
   "codemirror_mode": {
    "name": "ipython",
    "version": 3
   },
   "file_extension": ".py",
   "mimetype": "text/x-python",
   "name": "python",
   "nbconvert_exporter": "python",
   "pygments_lexer": "ipython3",
   "version": "3.6.2"
  }
 },
 "nbformat": 4,
 "nbformat_minor": 2
}
